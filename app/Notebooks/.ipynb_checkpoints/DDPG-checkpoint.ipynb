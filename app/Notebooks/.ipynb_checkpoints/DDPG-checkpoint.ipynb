{
 "cells": [
  {
   "cell_type": "markdown",
   "id": "993f1815-2b31-447e-b181-97bba8bafe1b",
   "metadata": {},
   "source": [
    "# Deep Deterministic Policy Gradients Agent for Step Response\n",
    "\n",
    "Trains a [Deep Deterministic Policy Gradients](https://stable-baselines.readthedocs.io/en/master/modules/ddpg.html) model to solve a simple step-response problem in the shared Bullet simulation. A [Tensorboard](https://www.tensorflow.org/tensorboard) visualisation is hosted [**here**](http://0.0.0.0:6006/#scalars) in order to track training progress.\n",
    "\n",
    "## Import necessary Components and start Training"
   ]
  },
  {
   "cell_type": "code",
   "execution_count": null,
   "id": "b1ab6433-65c1-4762-9114-c7e7d7ce692d",
   "metadata": {},
   "outputs": [
    {
     "name": "stderr",
     "output_type": "stream",
     "text": [
      "/root/myenv/lib/python3.7/site-packages/ale_py/roms/utils.py:90: DeprecationWarning: SelectableGroups dict interface is deprecated. Use select.\n",
      "  for external in metadata.entry_points().get(self.group, []):\n"
     ]
    },
    {
     "name": "stdout",
     "output_type": "stream",
     "text": [
      "WARNING:tensorflow:\n",
      "The TensorFlow contrib module will not be included in TensorFlow 2.0.\n",
      "For more information, please see:\n",
      "  * https://github.com/tensorflow/community/blob/master/rfcs/20180907-contrib-sunset.md\n",
      "  * https://github.com/tensorflow/addons\n",
      "  * https://github.com/tensorflow/io (for I/O related ops)\n",
      "If you depend on functionality not listed there, please file an issue.\n",
      "\n"
     ]
    }
   ],
   "source": [
    "import gym\n",
    "import os\n",
    "import numpy as np\n",
    "import matplotlib.pyplot as plt\n",
    "\n",
    "from stable_baselines.ddpg.policies import MlpPolicy\n",
    "from stable_baselines.common.noise import NormalActionNoise, OrnsteinUhlenbeckActionNoise, AdaptiveParamNoiseSpec\n",
    "from stable_baselines import DDPG\n",
    "\n",
    "import gym_jointcontrol\n",
    "import rospy\n",
    "\n",
    "import time\n",
    "\n",
    "env = gym.make('jointcontrol-v0', jointidx=0)\n",
    "env.reset()\n",
    "\n",
    "# Start tensorboard to allow for visualisation of training process\n",
    "os.system(\"tensorboard --logdir /training_tensorboard/ --host 0.0.0.0 --port 6006 &\")\n",
    "\n",
    "# the noise objects for DDPG\n",
    "n_actions = env.action_space.shape[-1]\n",
    "param_noise = None\n",
    "action_noise = OrnsteinUhlenbeckActionNoise(mean=np.zeros(n_actions), sigma=float(0.5) * np.ones(n_actions))\n",
    "\n",
    "model = DDPG(MlpPolicy, env, tensorboard_log=\"/training_tensorboard/\", verbose=1, param_noise=param_noise, action_noise=action_noise)\n",
    "model.learn(total_timesteps=3000)"
   ]
  },
  {
   "cell_type": "markdown",
   "id": "97c43ac4-5192-4728-82c1-6b243aff88ad",
   "metadata": {},
   "source": [
    "## Test trained Model\n",
    "\n",
    "The trained model can then be tested using the controllerTest module from the jointcontrol package. This module allows for step response and stability testing of the resulting controller and generates a test report."
   ]
  },
  {
   "cell_type": "code",
   "execution_count": null,
   "id": "64963be9-a0a5-409b-b8b0-306d8a807963",
   "metadata": {},
   "outputs": [],
   "source": [
    "import sys\n",
    "import time\n",
    "sys.path.append(\"/catkin_ws/src/jointcontrol/scripts\")\n",
    "from controllerTest import *\n",
    "\n",
    "env.reset()\n",
    "test = controllerTest(env, model, \"testModel\")\n",
    "test.plotResults(gui=True)"
   ]
  },
  {
   "cell_type": "code",
   "execution_count": null,
   "id": "3c06bb61-2f74-4a49-993d-0c90e5c7f73f",
   "metadata": {},
   "outputs": [],
   "source": []
  }
 ],
 "metadata": {
  "kernelspec": {
   "display_name": "Python 3 (ipykernel)",
   "language": "python",
   "name": "python3"
  },
  "language_info": {
   "codemirror_mode": {
    "name": "ipython",
    "version": 3
   },
   "file_extension": ".py",
   "mimetype": "text/x-python",
   "name": "python",
   "nbconvert_exporter": "python",
   "pygments_lexer": "ipython3",
   "version": "3.7.12"
  }
 },
 "nbformat": 4,
 "nbformat_minor": 5
}
