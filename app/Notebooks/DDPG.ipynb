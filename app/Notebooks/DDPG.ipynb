{
 "cells": [
  {
   "cell_type": "markdown",
   "id": "993f1815-2b31-447e-b181-97bba8bafe1b",
   "metadata": {},
   "source": [
    "# Deep Deterministic Policy Gradients Agent for Step Response\n",
    "\n",
    "Trains a [Deep Deterministic Policy Gradients](https://stable-baselines.readthedocs.io/en/master/modules/ddpg.html) model to solve a simple step-response problem in the shared Bullet simulation. A [Tensorboard](https://www.tensorflow.org/tensorboard) visualisation is hosted [**here**](http://0.0.0.0:6006/#scalars) in order to track training progress.\n",
    "\n",
    "## Setup Environment and start Training"
   ]
  },
  {
   "cell_type": "code",
   "execution_count": null,
   "id": "b1ab6433-65c1-4762-9114-c7e7d7ce692d",
   "metadata": {},
   "outputs": [],
   "source": [
    "# Set matplotlib to inline mode and import necessary components\n",
    "%matplotlib inline\n",
    "import matplotlib.pyplot as plt\n",
    "import matplotlib_inline.backend_inline\n",
    "matplotlib_inline.backend_inline.set_matplotlib_formats('svg')\n",
    "\n",
    "import gym\n",
    "import os\n",
    "import numpy as np\n",
    "\n",
    "# These imports witll throw a lot of warnings, since we are using Python 3.7 instead of 3.8\n",
    "from stable_baselines.ddpg.policies import MlpPolicy\n",
    "from stable_baselines.common.noise import NormalActionNoise, OrnsteinUhlenbeckActionNoise, AdaptiveParamNoiseSpec\n",
    "from stable_baselines import DDPG\n",
    "\n",
    "import gym_jointcontrol\n",
    "import rospy\n",
    "\n",
    "import time\n",
    "\n",
    "# Instantiate gym environment and reset it\n",
    "env = gym.make('jointcontrol-v0', jointidx=0)\n",
    "env.reset()\n",
    "\n",
    "# Start tensorboard to allow for visualisation of training process\n",
    "os.system(\"tensorboard --logdir /training_tensorboard/ --host 0.0.0.0 --port 6006 &\")\n",
    "\n",
    "# Create DDPG noise objects. They are scaled to [-1, 1] in the shape [numParams,]\n",
    "n_actions = env.action_space.shape[-1]\n",
    "param_noise = None\n",
    "action_noise = OrnsteinUhlenbeckActionNoise(mean=np.zeros(n_actions), sigma=float(0.5) * np.ones(n_actions))\n",
    "\n",
    "# Instantiate model and start training\n",
    "model = DDPG(MlpPolicy, env, tensorboard_log=\"/training_tensorboard/\", verbose=1, param_noise=param_noise, action_noise=action_noise)\n",
    "model.learn(total_timesteps=10000)"
   ]
  },
  {
   "cell_type": "markdown",
   "id": "97c43ac4-5192-4728-82c1-6b243aff88ad",
   "metadata": {},
   "source": [
    "## Test trained Model\n",
    "\n",
    "The trained model can then be tested using the controllerTest module from the jointcontrol package. This module allows for step response and stability testing of the resulting controller and generates a test report."
   ]
  },
  {
   "cell_type": "code",
   "execution_count": null,
   "id": "64963be9-a0a5-409b-b8b0-306d8a807963",
   "metadata": {},
   "outputs": [],
   "source": [
    "# Import controllerTest module from jointcontrol package\n",
    "import sys\n",
    "sys.path.append(\"/catkin_ws/src/jointcontrol/scripts\")\n",
    "from controllerTest import *\n",
    "\n",
    "# Reset environment, instantiate controllerTest and visualise results\n",
    "env.reset()\n",
    "test = controllerTest(env, model, \"Deep Deterministic Policy Gradients\")\n",
    "test.plotResults(gui=True)"
   ]
  },
  {
   "cell_type": "code",
   "execution_count": null,
   "id": "3c06bb61-2f74-4a49-993d-0c90e5c7f73f",
   "metadata": {},
   "outputs": [],
   "source": []
  }
 ],
 "metadata": {
  "kernelspec": {
   "display_name": "Python 3 (ipykernel)",
   "language": "python",
   "name": "python3"
  },
  "language_info": {
   "codemirror_mode": {
    "name": "ipython",
    "version": 3
   },
   "file_extension": ".py",
   "mimetype": "text/x-python",
   "name": "python",
   "nbconvert_exporter": "python",
   "pygments_lexer": "ipython3",
   "version": "3.7.12"
  }
 },
 "nbformat": 4,
 "nbformat_minor": 5
}
